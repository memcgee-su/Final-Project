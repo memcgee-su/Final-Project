{
 "cells": [
  {
   "cell_type": "code",
   "execution_count": 1,
   "metadata": {},
   "outputs": [
    {
     "name": "stdout",
     "output_type": "stream",
     "text": [
      "Enter a sentence describing how you’re feeling at the moment:hi\n",
      "ERROR: Cannot decode the response into json\n",
      "DETAILS:  Expecting value: line 1 column 1 (char 0)\n"
     ]
    }
   ],
   "source": [
    "!pip install -q requests\n",
    "import requests\n",
    "import json\n",
    "sentiment_api = 'f5sAznhrKQyvBFFaZbtF60m5tzLbqWhyALQawBg5TjRI'\n",
    "netflix_api = '6d86516802msh0495574f478aa9ap1d9abajsn702f79b3f67f'\n",
    "def sentiment():\n",
    "    mood_keywords = input('Enter a sentence describing how you’re feeling at the moment:')\n",
    "    url_sent = ('https://tone-analyzer-demo.ng.bluemix.net')\n",
    "    response = requests.get(url_sent)\n",
    "    ip = response.json()\n",
    "    response.ok\n",
    "    response.text\n",
    "    feeling = sentiment['response']\n",
    "    return feeling\n",
    "    print(\"You are in the mood to watch {type_of_genre} shows or movies\")\n",
    "def netflix_rec():\n",
    "    tv_or_movie = input('Do you want to watch a movie or TV show?')\n",
    "    url_tv = ('https://unogs-unogs-v1.p.rapidapi.com/aaapi.cgi')\n",
    "    response = requests.get(url_tv)\n",
    "    ip = response.json()\n",
    "    response.ok\n",
    "    response.text\n",
    "    recommendation = 'type of netflix'\n",
    "    if tv_or_movie == 'movie':\n",
    "        print('feeling', 'movie suggestion') #have to fix this\n",
    "    elif tv_or_movie == 'tv show':\n",
    "        print('feeling', 'movie suggestion') #have to fix this\n",
    "    return recommendation\n",
    "\n",
    "try:\n",
    "    sentiment()\n",
    "    netflix_rec()\n",
    "except json.decoder.JSONDecodeError as e:\n",
    "    print(\"ERROR: Cannot decode the response into json\")\n",
    "    print(\"DETAILS: \", e)"
   ]
  },
  {
   "cell_type": "code",
   "execution_count": null,
   "metadata": {},
   "outputs": [],
   "source": []
  }
 ],
 "metadata": {
  "kernelspec": {
   "display_name": "Python 3",
   "language": "python",
   "name": "python3"
  },
  "language_info": {
   "codemirror_mode": {
    "name": "ipython",
    "version": 3
   },
   "file_extension": ".py",
   "mimetype": "text/x-python",
   "name": "python",
   "nbconvert_exporter": "python",
   "pygments_lexer": "ipython3",
   "version": "3.7.3"
  }
 },
 "nbformat": 4,
 "nbformat_minor": 2
}
